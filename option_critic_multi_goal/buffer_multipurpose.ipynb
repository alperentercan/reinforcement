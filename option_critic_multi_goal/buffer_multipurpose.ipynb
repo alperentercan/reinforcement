{
 "cells": [
  {
   "cell_type": "code",
   "execution_count": 7,
   "metadata": {
    "ExecuteTime": {
     "end_time": "2019-12-05T01:39:56.024021Z",
     "start_time": "2019-12-05T01:39:56.016278Z"
    }
   },
   "outputs": [
    {
     "name": "stdout",
     "output_type": "stream",
     "text": [
      "Overwriting buffer_multipurpose.py\n"
     ]
    }
   ],
   "source": [
    "%%writefile buffer_multipurpose.py\n",
    "import numpy as np\n",
    "import torch\n",
    "\n",
    "class Replay_buffer():\n",
    "    def __init__(self,size,partition=[]):\n",
    "        self.size = size\n",
    "#         self.obs_size = obs_size\n",
    "#         self.action_size = action_size\n",
    "        self.partition = partition\n",
    "        self.width = sum(partition)\n",
    "        self.replay_buffer = torch.zeros([self.size,self.width],dtype=torch.float32)\n",
    "        self.buff_ind = 0\n",
    "        self.buff_curr_size = 0\n",
    "        \n",
    "    \n",
    "    def add_entry(self,obs):\n",
    "        if len(obs) != len(self.partition):\n",
    "            print(f'Obs expected to be of length {len(self.partition)} instead found {len(obs)}')\n",
    "        else:\n",
    "#             done = 0 if done else 1\n",
    "#             transition_entry = torch.tensor(np.concatenate([obs, a,w, reward, obs_new,done],axis=None))\n",
    "            transition_entry = torch.tensor([i for j in obs for i in j])\n",
    "#             print(f'Transition_entry is of size {transiton_entry.shape}')\n",
    "            self.replay_buffer[self.buff_ind,:] = transition_entry\n",
    "            self.buff_ind = (self.buff_ind + 1)%self.size;\n",
    "            self.buff_curr_size = min(self.size,self.buff_curr_size + 1);\n",
    "    \n",
    "      \n",
    "    def sample_batch(self,batch_size):\n",
    "        minibatch_size = min(batch_size,self.buff_curr_size)\n",
    "        batch = self.replay_buffer[np.random.choice(self.buff_curr_size,minibatch_size),:]\n",
    "        return batch\n",
    "    \n",
    "    def sample_split_batch(self,batch_size):\n",
    "        minibatch_size = min(batch_size,self.buff_curr_size)\n",
    "        batch_ind = np.random.choice(self.buff_curr_size,minibatch_size)\n",
    "        \n",
    "        output = []\n",
    "        for i in range(len(self.partition)):\n",
    "            output.append(self.replay_buffer[batch_ind,sum(self.partition[:i]):sum(self.partition[:i+1])])\n",
    "            \n",
    "\n",
    "#         obs_batch = self.replay_buffer[batch_ind,:self.obs_size]#.reshape(-1,1)\n",
    "#         act_batch = self.replay_buffer[batch_ind,self.obs_size:self.obs_size + self.action_size]#.reshape(-1,1)\n",
    "#         w_batch = self.replay_buffer[batch_ind,self.obs_size + self.action_size:self.obs_size + self.action_size + 1]\n",
    "#         reward_batch = self.replay_buffer[batch_ind,self.obs_size + self.action_size +1:self.obs_size + self.action_size + 2]\n",
    "#         obs_new_batch = self.replay_buffer[batch_ind, -self.obs_size-1:-1]#.reshape(-1,1)\n",
    "#         done_batch = self.replay_buffer[batch_ind,-1].reshape(-1,1)\n",
    "        \n",
    "        return output"
   ]
  },
  {
   "cell_type": "code",
   "execution_count": null,
   "metadata": {},
   "outputs": [],
   "source": []
  }
 ],
 "metadata": {
  "kernelspec": {
   "display_name": "Python 3",
   "language": "python",
   "name": "python3"
  },
  "language_info": {
   "codemirror_mode": {
    "name": "ipython",
    "version": 3
   },
   "file_extension": ".py",
   "mimetype": "text/x-python",
   "name": "python",
   "nbconvert_exporter": "python",
   "pygments_lexer": "ipython3",
   "version": "3.7.3"
  },
  "latex_envs": {
   "LaTeX_envs_menu_present": true,
   "autoclose": true,
   "autocomplete": true,
   "bibliofile": "biblio.bib",
   "cite_by": "apalike",
   "current_citInitial": 1,
   "eqLabelWithNumbers": true,
   "eqNumInitial": 1,
   "hotkeys": {
    "equation": "Ctrl-E",
    "itemize": "Ctrl-I"
   },
   "labels_anchors": false,
   "latex_user_defs": false,
   "report_style_numbering": false,
   "user_envs_cfg": false
  },
  "toc": {
   "base_numbering": 1,
   "nav_menu": {},
   "number_sections": true,
   "sideBar": true,
   "skip_h1_title": false,
   "title_cell": "Table of Contents",
   "title_sidebar": "Contents",
   "toc_cell": false,
   "toc_position": {},
   "toc_section_display": true,
   "toc_window_display": false
  }
 },
 "nbformat": 4,
 "nbformat_minor": 2
}
